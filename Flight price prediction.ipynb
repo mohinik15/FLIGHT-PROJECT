{
 "cells": [
  {
   "cell_type": "markdown",
   "id": "08f40edd",
   "metadata": {},
   "source": [
    "# FLIGHT PRICE PREDICTION"
   ]
  },
  {
   "cell_type": "raw",
   "id": "51d1029b",
   "metadata": {},
   "source": [
    "Anyone who has booked a flight ticket knows how unexpectedly the prices vary. The cheapest available ticket on a given flight gets more and less expensive over time. This usually happens as an attempt to maximize revenue based on\n",
    "\n",
    "1. Time of purchase patterns (making sure last-minute purchases are expensive)\n",
    "\n",
    "2. Keeping the flight as full as they want it (raising prices on a flight which is filling up in order to reduce sales and hold back inventory for those expensive last-minute expensive purchases)"
   ]
  },
  {
   "cell_type": "raw",
   "id": "fe7f585a",
   "metadata": {},
   "source": [
    "DATA ANALYSIS\n",
    "\n",
    "After cleaning the data, you have to do some analysis on the data.\n",
    "\n",
    "-Do airfares change frequently?\n",
    "-Do they move in small increments or in large jumps?\n",
    "-Do they tend to go up or down over time?\n",
    "-What is the best time to buy so that the consumer can save the most by taking the least risk?\n",
    "-Does price increase as we get near to departure date?\n",
    "-Is Indigo cheaper than Jet Airways?\n",
    "-Are morning flights expensive?\n",
    "\n",
    "MODEL BUILDING\n",
    "\n",
    "After collecting the data, you need to build a machine learning model. Before model building do all data pre-processing steps. Try different models with different hyper parameters and select the best model. Follow the complete life cycle of data science. Include all the steps below:\n",
    "\n",
    "-Data Cleaning\n",
    "-Exploratory Data Analysis\n",
    "-Data Pre-processing\n",
    "-Model Building\n",
    "-Model Evaluation\n",
    "-Selecting the best mode"
   ]
  },
  {
   "cell_type": "code",
   "execution_count": null,
   "id": "dea56554",
   "metadata": {},
   "outputs": [],
   "source": [
    "import warnings\n",
    "warnings.simplefilter(\"ignore\")\n",
    "warnings.filterwarnings(\"ignore\")\n",
    "import joblib\n",
    "\n",
    "import pandas as pd\n",
    "import numpy as np\n",
    "import seaborn as sns\n",
    "import matplotlib.pyplot as plt\n",
    "%matplotlib inline\n",
    "\n",
    "import missingno\n",
    "import pandas_profiling\n",
    "from sklearn import metrics\n",
    "from scipy.stats import zscore\n",
    "from sklearn.preprocessing import OrdinalEncoder\n",
    "from sklearn.preprocessing import StandardScaler\n",
    "from sklearn.model_selection import train_test_split\n",
    "\n",
    "from sklearn.linear_model import LinearRegression, Ridge, Lasso\n",
    "from sklearn.svm import SVR\n",
    "from sklearn.tree import DecisionTreeRegressor\n",
    "from sklearn.ensemble import RandomForestRegressor\n",
    "from sklearn.neighbors import KNeighborsRegressor\n",
    "from sklearn.ensemble import AdaBoostRegressor\n",
    "from sklearn.ensemble import ExtraTreesRegressor\n",
    "from sklearn.ensemble import GradientBoostingRegressor\n",
    "\n",
    "from sklearn.metrics import r2_score\n",
    "from sklearn.metrics import mean_squared_error\n",
    "from sklearn.model_selection import cross_val_score\n",
    "from sklearn.model_selection import GridSearchCV"
   ]
  },
  {
   "cell_type": "code",
   "execution_count": null,
   "id": "93f2a267",
   "metadata": {},
   "outputs": [],
   "source": [
    "df = pd.read_csv(\"Flight_Price_Data.csv\")"
   ]
  },
  {
   "cell_type": "code",
   "execution_count": null,
   "id": "a97329d7",
   "metadata": {},
   "outputs": [],
   "source": [
    "df # checking the first 5 and last 5 rows"
   ]
  },
  {
   "cell_type": "markdown",
   "id": "bfd842a1",
   "metadata": {},
   "source": [
    "# Exploratory Data Analysis (EDA)"
   ]
  },
  {
   "cell_type": "code",
   "execution_count": null,
   "id": "c6e05084",
   "metadata": {},
   "outputs": [],
   "source": [
    "print(\"We have {} Rows and {} Columns in our dataframe\".format(df.shape[0], df.shape[1]))\n",
    "df.head(10)"
   ]
  },
  {
   "cell_type": "code",
   "execution_count": null,
   "id": "3a1a3e1f",
   "metadata": {},
   "outputs": [],
   "source": [
    "df.isna().sum() # checking for missing values"
   ]
  },
  {
   "cell_type": "code",
   "execution_count": null,
   "id": "85074e5f",
   "metadata": {},
   "outputs": [],
   "source": [
    "missingno.bar(df, figsize = (25,5), color=\"tab:red\")"
   ]
  },
  {
   "cell_type": "code",
   "execution_count": 1,
   "id": "03f3535f",
   "metadata": {},
   "outputs": [
    {
     "name": "stdout",
     "output_type": "stream",
     "text": [
      "Missing column values in percentage:\n"
     ]
    },
    {
     "ename": "NameError",
     "evalue": "name 'df' is not defined",
     "output_type": "error",
     "traceback": [
      "\u001b[1;31m---------------------------------------------------------------------------\u001b[0m",
      "\u001b[1;31mNameError\u001b[0m                                 Traceback (most recent call last)",
      "\u001b[1;32m~\\AppData\\Local\\Temp/ipykernel_10456/983950613.py\u001b[0m in \u001b[0;36m<module>\u001b[1;34m\u001b[0m\n\u001b[0;32m      1\u001b[0m \u001b[0mprint\u001b[0m\u001b[1;33m(\u001b[0m\u001b[1;34m\"Missing column values in percentage:\"\u001b[0m\u001b[1;33m)\u001b[0m\u001b[1;33m\u001b[0m\u001b[1;33m\u001b[0m\u001b[0m\n\u001b[1;32m----> 2\u001b[1;33m \u001b[1;32mfor\u001b[0m \u001b[0mcol\u001b[0m \u001b[1;32min\u001b[0m \u001b[0mdf\u001b[0m\u001b[1;33m:\u001b[0m\u001b[1;33m\u001b[0m\u001b[1;33m\u001b[0m\u001b[0m\n\u001b[0m\u001b[0;32m      3\u001b[0m     \u001b[0mpercentage\u001b[0m \u001b[1;33m=\u001b[0m \u001b[0mnp\u001b[0m\u001b[1;33m.\u001b[0m\u001b[0mround\u001b[0m\u001b[1;33m(\u001b[0m\u001b[1;33m(\u001b[0m\u001b[0mdf\u001b[0m\u001b[1;33m[\u001b[0m\u001b[0mcol\u001b[0m\u001b[1;33m]\u001b[0m\u001b[1;33m.\u001b[0m\u001b[0misnull\u001b[0m\u001b[1;33m(\u001b[0m\u001b[1;33m)\u001b[0m\u001b[1;33m.\u001b[0m\u001b[0msum\u001b[0m\u001b[1;33m(\u001b[0m\u001b[1;33m)\u001b[0m\u001b[1;33m/\u001b[0m\u001b[0mdf\u001b[0m\u001b[1;33m.\u001b[0m\u001b[0mshape\u001b[0m\u001b[1;33m[\u001b[0m\u001b[1;36m0\u001b[0m\u001b[1;33m]\u001b[0m\u001b[1;33m)\u001b[0m\u001b[1;33m*\u001b[0m\u001b[1;36m100\u001b[0m\u001b[1;33m,\u001b[0m \u001b[1;36m6\u001b[0m\u001b[1;33m)\u001b[0m\u001b[1;33m\u001b[0m\u001b[1;33m\u001b[0m\u001b[0m\n\u001b[0;32m      4\u001b[0m     \u001b[0mprint\u001b[0m\u001b[1;33m(\u001b[0m\u001b[0mcol\u001b[0m\u001b[1;33m,\u001b[0m \u001b[1;34m\":\"\u001b[0m\u001b[1;33m.\u001b[0m\u001b[0mformat\u001b[0m\u001b[1;33m(\u001b[0m\u001b[1;33m)\u001b[0m\u001b[1;33m,\u001b[0m \u001b[0mpercentage\u001b[0m\u001b[1;33m,\u001b[0m \u001b[1;34m'%'\u001b[0m\u001b[1;33m)\u001b[0m\u001b[1;33m\u001b[0m\u001b[1;33m\u001b[0m\u001b[0m\n",
      "\u001b[1;31mNameError\u001b[0m: name 'df' is not defined"
     ]
    }
   ],
   "source": [
    "print(\"Missing column values in percentage:\")\n",
    "for col in df:\n",
    "    percentage = np.round((df[col].isnull().sum()/df.shape[0])*100, 6)\n",
    "    print(col, \":\".format(), percentage, '%')"
   ]
  },
  {
   "cell_type": "code",
   "execution_count": 2,
   "id": "0b98f07d",
   "metadata": {},
   "outputs": [
    {
     "ename": "NameError",
     "evalue": "name 'df' is not defined",
     "output_type": "error",
     "traceback": [
      "\u001b[1;31m---------------------------------------------------------------------------\u001b[0m",
      "\u001b[1;31mNameError\u001b[0m                                 Traceback (most recent call last)",
      "\u001b[1;32m~\\AppData\\Local\\Temp/ipykernel_10456/3771845804.py\u001b[0m in \u001b[0;36m<module>\u001b[1;34m\u001b[0m\n\u001b[1;32m----> 1\u001b[1;33m \u001b[0mdf\u001b[0m\u001b[1;33m.\u001b[0m\u001b[0minfo\u001b[0m\u001b[1;33m(\u001b[0m\u001b[1;33m)\u001b[0m\u001b[1;33m\u001b[0m\u001b[1;33m\u001b[0m\u001b[0m\n\u001b[0m",
      "\u001b[1;31mNameError\u001b[0m: name 'df' is not defined"
     ]
    }
   ],
   "source": [
    "df.info()"
   ]
  },
  {
   "cell_type": "code",
   "execution_count": null,
   "id": "028d6f87",
   "metadata": {},
   "outputs": [],
   "source": [
    "df.nunique().sort_values().to_frame(\"Unique Values\")"
   ]
  },
  {
   "cell_type": "code",
   "execution_count": null,
   "id": "909e0222",
   "metadata": {},
   "outputs": [],
   "source": [
    "value = [\"Meal_Availability\", \"Number_Of_Stops\", \"Airline_Names\", \"Source_Place\", \"Destination_Place\"]\n",
    "for col in value:\n",
    "    print(col)\n",
    "    print(df[col].value_counts())\n",
    "    print(\"=\"*120)"
   ]
  },
  {
   "cell_type": "raw",
   "id": "7c090b8f",
   "metadata": {},
   "source": [
    "# I have listed the unique value information for the columns \"Meal_Availability\", \"Number_Of_Stops\", \"Airline_Names\", \"Source_Place\" and \"Destination_Place\" to see the values as they contain less than 10 unique values in those columns. This also shows that atleast in these columns we do not have to worry about any junk data being present."
   ]
  },
  {
   "cell_type": "markdown",
   "id": "7208f4f9",
   "metadata": {},
   "source": [
    "# Data Preprocessing"
   ]
  },
  {
   "cell_type": "code",
   "execution_count": null,
   "id": "e5abe07d",
   "metadata": {},
   "outputs": [],
   "source": [
    "# Meal_Availability \n",
    "\n",
    "df.Meal_Availability.replace({\"No Meal Fare\": \"No Meals\", \"Free Meal\": \"Free Meals\", \"eCash 250\": \"eCash Meals\"}, \n",
    "                             inplace = True)\n",
    "df[\"Meal_Availability\"].value_counts()"
   ]
  },
  {
   "cell_type": "code",
   "execution_count": null,
   "id": "89898e22",
   "metadata": {},
   "outputs": [],
   "source": [
    "# Number_Of_Stops\n",
    "\n",
    "df.Number_Of_Stops.replace({\"Non Stop\": 0, \"1 Stop\": 1, \"2 Stop(s)\": 2, \"3 Stop(s)\": 3, \"4 Stop(s)\": 4}, \n",
    "                           inplace = True)\n",
    "df[\"Number_Of_Stops\"].value_counts()"
   ]
  },
  {
   "cell_type": "code",
   "execution_count": null,
   "id": "3e6c7e78",
   "metadata": {},
   "outputs": [],
   "source": [
    "df"
   ]
  },
  {
   "cell_type": "code",
   "execution_count": null,
   "id": "02d9842a",
   "metadata": {},
   "outputs": [],
   "source": [
    "# Departure_Time\n",
    "\n",
    "df[\"Dep_Hour\"] = pd.to_datetime(df.Departure_Time, format=\"%H:%M\").dt.hour\n",
    "df[\"Dep_Min\"] = pd.to_datetime(df.Departure_Time, format=\"%H:%M\").dt.minute\n",
    "df[\"Departure_Time\"] = df['Dep_Hour'] + df['Dep_Min'] / 60\n",
    "#df.drop(columns = ['Dep_Hour','Dep_Min'], inplace=True) \n",
    "df.head()"
   ]
  },
  {
   "cell_type": "code",
   "execution_count": null,
   "id": "f03eace8",
   "metadata": {},
   "outputs": [],
   "source": [
    "# Arrival_Time\n",
    "\n",
    "df[\"Arr_Hour\"] = pd.to_datetime(df.Arrival_Time, format=\"%H:%M\").dt.hour\n",
    "df[\"Arr_Min\"] = pd.to_datetime(df.Arrival_Time, format=\"%H:%M\").dt.minute\n",
    "df[\"Arrival_Time\"] = df['Arr_Hour'] + df['Arr_Min'] / 60\n",
    "#df.drop(columns = ['Arr_Hour','Arr_Min'], inplace=True)  \n",
    "df.head()"
   ]
  },
  {
   "cell_type": "code",
   "execution_count": null,
   "id": "f182f102",
   "metadata": {},
   "outputs": [],
   "source": [
    "# Flight_Duration\n",
    "\n",
    "df[\"FD_Hour\"] = df.Flight_Duration.str.split('h').str.get(0)\n",
    "df[\"FD_Min\"] = df.Flight_Duration.str.split('h').str.get(1)\n",
    "df[\"FD_Min\"] = df[\"FD_Min\"].str.split('m').str.get(0)\n",
    "df[\"FD_Hour\"] = df['FD_Hour'].astype('float')\n",
    "df[\"FD_Min\"] = df['FD_Min'].astype('float')\n",
    "df[\"Flight_Duration\"] = df[\"FD_Hour\"] + df[\"FD_Min\"] / 60\n",
    "#df.drop(columns = [\"FD_Hour\",\"FD_Min\"], inplace=True)\n",
    "df.head()"
   ]
  },
  {
   "cell_type": "code",
   "execution_count": null,
   "id": "40d33a47",
   "metadata": {},
   "outputs": [],
   "source": [
    "# Flight_Prices\n",
    "\n",
    "df['Flight_Prices'] = df['Flight_Prices'].str.replace(',','')\n",
    "df['Flight_Prices'] = df['Flight_Prices'].astype('float')\n",
    "df"
   ]
  },
  {
   "cell_type": "code",
   "execution_count": null,
   "id": "c0f6ee35",
   "metadata": {},
   "outputs": [],
   "source": [
    "df.dtypes"
   ]
  },
  {
   "cell_type": "code",
   "execution_count": null,
   "id": "24271cd1",
   "metadata": {},
   "outputs": [],
   "source": [
    "df.describe(include=\"all\").T"
   ]
  },
  {
   "cell_type": "code",
   "execution_count": null,
   "id": "8f125d13",
   "metadata": {},
   "outputs": [],
   "source": [
    "# Visualizing the statistical description of numeric datatype columns\n",
    "\n",
    "plt.figure(figsize = (10,7))\n",
    "sns.heatmap(round(df.describe()[1:].transpose(),2), linewidth = 2, annot= True, fmt = \".2f\", cmap=\"hot\")\n",
    "plt.title(\"Satistical Report of Numerical Columns\\n\", fontsize = 20)\n",
    "plt.xticks(fontsize = 10)\n",
    "plt.yticks(fontsize = 10)\n",
    "plt.show()"
   ]
  },
  {
   "cell_type": "markdown",
   "id": "66a5ff7b",
   "metadata": {},
   "source": [
    "# Visualization"
   ]
  },
  {
   "cell_type": "code",
   "execution_count": null,
   "id": "456685c9",
   "metadata": {},
   "outputs": [],
   "source": [
    "pandas_profiling.ProfileReport(df)"
   ]
  },
  {
   "cell_type": "code",
   "execution_count": null,
   "id": "5d51b8b0",
   "metadata": {},
   "outputs": [],
   "source": [
    "try:\n",
    "    x = 'Meal_Availability'\n",
    "    k=0\n",
    "    plt.figure(figsize=[8,8])\n",
    "    axes = sns.countplot(df[x])\n",
    "    for i in axes.patches:\n",
    "        ht = i.get_height()\n",
    "        mr = len(df[x])\n",
    "        st = f\"{ht} ({round(ht*100/mr,2)}%)\"\n",
    "        plt.text(k, ht/2, st, ha='center', fontweight='bold')\n",
    "        k += 1\n",
    "    plt.ylim(0,4500)\n",
    "    plt.title(f'Count Plot for {x} column\\n', fontsize = 20)\n",
    "    plt.ylabel(f'Total number of rows covered\\n')\n",
    "    plt.show()\n",
    "    \n",
    "except Exception as e:\n",
    "    print(\"Error:\", e)\n",
    "    pass"
   ]
  },
  {
   "cell_type": "code",
   "execution_count": null,
   "id": "06aadb2f",
   "metadata": {},
   "outputs": [],
   "source": [
    "try:\n",
    "    x = 'Airline_Names'\n",
    "    k=0\n",
    "    plt.figure(figsize=[15,8])\n",
    "    axes = sns.countplot(df[x])\n",
    "    for i in axes.patches:\n",
    "        ht = i.get_height()\n",
    "        mr = len(df[x])\n",
    "        st = f\"{ht} ({round(ht*100/mr,2)}%)\"\n",
    "        plt.text(k, ht/2, st, ha='center', fontweight='bold')\n",
    "        k += 1\n",
    "    plt.ylim(0,2000)\n",
    "    plt.title(f'Count Plot for {x} column\\n', fontsize = 20)\n",
    "    plt.ylabel(f'Total number of rows covered\\n')\n",
    "    plt.show()\n",
    "    \n",
    "except Exception as e:\n",
    "    print(\"Error:\", e)\n",
    "    pass"
   ]
  },
  {
   "cell_type": "code",
   "execution_count": null,
   "id": "0df57178",
   "metadata": {},
   "outputs": [],
   "source": [
    "try:\n",
    "    x = 'Source_Place'\n",
    "    k=0\n",
    "    plt.figure(figsize=[15,8])\n",
    "    axes = sns.countplot(df[x])\n",
    "    for i in axes.patches:\n",
    "        ht = i.get_height()\n",
    "        mr = len(df[x])\n",
    "        st = f\"{ht} ({round(ht*100/mr,2)}%)\"\n",
    "        plt.text(k, ht/2, st, ha='center', fontweight='bold')\n",
    "        k += 1\n",
    "    plt.ylim(0,900)\n",
    "    plt.title(f'Count Plot for {x} column\\n', fontsize = 20)\n",
    "    plt.ylabel(f'Total number of rows covered\\n')\n",
    "    plt.show()\n",
    "    \n",
    "except Exception as e:\n",
    "    print(\"Error:\", e)\n",
    "    pass"
   ]
  },
  {
   "cell_type": "code",
   "execution_count": null,
   "id": "354c5b3b",
   "metadata": {},
   "outputs": [],
   "source": [
    "try:\n",
    "    x = 'Destination_Place'\n",
    "    k=0\n",
    "    plt.figure(figsize=[15,8])\n",
    "    axes = sns.countplot(df[x])\n",
    "    for i in axes.patches:\n",
    "        ht = i.get_height()\n",
    "        mr = len(df[x])\n",
    "        st = f\"{ht} ({round(ht*100/mr,2)}%)\"\n",
    "        plt.text(k, ht/2, st, ha='center', fontweight='bold')\n",
    "        k += 1\n",
    "    plt.ylim(0,900)\n",
    "    plt.title(f'Count Plot for {x} column\\n', fontsize = 20)\n",
    "    plt.ylabel(f'Total number of rows covered\\n')\n",
    "    plt.show()\n",
    "    \n",
    "except Exception as e:\n",
    "    print(\"Error:\", e)\n",
    "    pass"
   ]
  },
  {
   "cell_type": "code",
   "execution_count": null,
   "id": "ce62a9cb",
   "metadata": {},
   "outputs": [],
   "source": [
    "try:\n",
    "    x = 'Number_Of_Stops'\n",
    "    k=0\n",
    "    plt.figure(figsize=[15,8])\n",
    "    axes = sns.countplot(df[x])\n",
    "    for i in axes.patches:\n",
    "        ht = i.get_height()\n",
    "        mr = len(df[x])\n",
    "        st = f\"{ht} ({round(ht*100/mr,2)}%)\"\n",
    "        plt.text(k, ht/2, st, ha='center', fontweight='bold')\n",
    "        k += 1\n",
    "    plt.ylim(0,4000)\n",
    "    plt.title(f'Count Plot for {x} column\\n', fontsize = 20)\n",
    "    plt.ylabel(f'Total number of rows covered\\n')\n",
    "    plt.show()\n",
    "    \n",
    "except Exception as e:\n",
    "    print(\"Error:\", e)\n",
    "    pass"
   ]
  },
  {
   "cell_type": "code",
   "execution_count": null,
   "id": "be67ef86",
   "metadata": {},
   "outputs": [],
   "source": [
    "y = 'Airline_Names'\n",
    "\n",
    "x = 'Departure_Time'\n",
    "plt.figure(figsize=[15,7])\n",
    "sns.barplot(x,y,data=df,orient='h')\n",
    "plt.title(f\"Barplot for {x} column vs {y} column\\n\", fontsize = 20)\n",
    "plt.show()\n",
    "\n",
    "x = 'Arrival_Time'\n",
    "plt.figure(figsize=[15,7])\n",
    "sns.barplot(x,y,data=df,orient='h')\n",
    "plt.title(f\"Barplot for {x} column vs {y} column\\n\", fontsize = 20)\n",
    "plt.show()\n",
    "\n",
    "x = 'Flight_Duration'\n",
    "plt.figure(figsize=[15,7])\n",
    "sns.barplot(x,y,data=df,orient='h')\n",
    "plt.title(f\"Barplot for {x} column vs {y} column\\n\", fontsize = 20)\n",
    "plt.show()\n",
    "\n",
    "x = 'Flight_Prices'\n",
    "plt.figure(figsize=[15,7])\n",
    "sns.barplot(x,y,data=df,orient='h')\n",
    "plt.title(f\"Barplot for {x} column vs {y} column\\n\", fontsize = 20)\n",
    "plt.show()"
   ]
  },
  {
   "cell_type": "code",
   "execution_count": null,
   "id": "b5702967",
   "metadata": {},
   "outputs": [],
   "source": [
    "x = \"Source_Place\"\n",
    "plt.figure(figsize=(18,10))\n",
    "sns.countplot(x = x, hue = \"Airline_Names\", data = df)\n",
    "plt.title(f\"Countplot for {x} column\\n\", fontsize = 20)\n",
    "plt.show()\n",
    "\n",
    "x = \"Destination_Place\"\n",
    "plt.figure(figsize=(18,10))\n",
    "sns.countplot(x = x, hue = \"Airline_Names\", data = df)\n",
    "plt.title(f\"Countplot for {x} column\\n\", fontsize = 20)\n",
    "plt.show()"
   ]
  },
  {
   "cell_type": "code",
   "execution_count": null,
   "id": "f48a3581",
   "metadata": {},
   "outputs": [],
   "source": [
    "x = \"Flight_Prices\"\n",
    "y = \"Airline_Names\"\n",
    "\n",
    "plt.figure(figsize=(18,9))\n",
    "sns.barplot(x=df[x], y=df[y], hue=df['Meal_Availability'], palette=\"Set1\")\n",
    "plt.title(f\"Barplot for {x} column vs {y} columns with respect to total number of stops\\n\", fontsize = 20)\n",
    "plt.show()\n",
    "\n",
    "plt.figure(figsize=(18,9))\n",
    "sns.barplot(x=df[x], y=df[y], hue=df['Number_Of_Stops'], palette=\"Set1\")\n",
    "plt.title(f\"Barplot for {x} column vs {y} columns with respect to total number of stops\\n\", fontsize = 20)\n",
    "plt.show()"
   ]
  },
  {
   "cell_type": "code",
   "execution_count": null,
   "id": "3bd42535",
   "metadata": {},
   "outputs": [],
   "source": [
    "y = \"Flight_Prices\"\n",
    "\n",
    "x = \"Airline_Names\"\n",
    "plt.figure(figsize = (15,8))\n",
    "sns.barplot(data = df, y = y, x = x)\n",
    "plt.title(\"Prices according to different Airlines\\n\", fontsize = 20)\n",
    "plt.show()\n",
    "\n",
    "x = \"Source_Place\"\n",
    "plt.figure(figsize = (15,8))\n",
    "sns.barplot(data = df, y = y, x = x)\n",
    "plt.title(\"Prices according to different Source places\\n\", fontsize = 20)\n",
    "plt.show()\n",
    "\n",
    "x = \"Destination_Place\"\n",
    "plt.figure(figsize = (15,8))\n",
    "sns.barplot(data = df, y = y, x = x)\n",
    "plt.title(\"Prices according to different Destination places\\n\", fontsize = 20)\n",
    "plt.show()\n",
    "\n",
    "x = \"Number_Of_Stops\"\n",
    "plt.figure(figsize = (8,8))\n",
    "sns.barplot(data = df, y = y, x = x)\n",
    "plt.title(\"Prices according to different Number of layover stops\\n\", fontsize = 20)\n",
    "plt.show()\n",
    "\n",
    "x = \"Meal_Availability\"\n",
    "plt.figure(figsize = (8,8))\n",
    "sns.barplot(data = df, y = y, x = x)\n",
    "plt.title(\"Prices according to different Meal options\\n\", fontsize = 20)\n",
    "plt.show()"
   ]
  },
  {
   "cell_type": "code",
   "execution_count": null,
   "id": "03432953",
   "metadata": {},
   "outputs": [],
   "source": [
    "y = \"Flight_Prices\"\n",
    "\n",
    "x = \"Departure_Time\"\n",
    "plt.figure(figsize = (15,8))\n",
    "sns.scatterplot(x=x,y=y,data=df)\n",
    "plt.title(f\"Scatterplot for {x} column vs {y} column\\n\", fontsize = 20)\n",
    "plt.show()\n",
    "\n",
    "x = \"Arrival_Time\"\n",
    "plt.figure(figsize = (15,8))\n",
    "sns.scatterplot(x=x,y=y,data=df)\n",
    "plt.title(f\"Scatterplot for {x} column vs {y} column\\n\", fontsize = 20)\n",
    "plt.show()\n",
    "\n",
    "x = \"Flight_Duration\"\n",
    "plt.figure(figsize = (15,8))\n",
    "sns.scatterplot(x=x,y=y,data=df)\n",
    "plt.title(f\"Scatterplot for {x} column vs {y} column\\n\", fontsize = 20)\n",
    "plt.show()"
   ]
  },
  {
   "cell_type": "code",
   "execution_count": null,
   "id": "3ce9818e",
   "metadata": {},
   "outputs": [],
   "source": [
    "print(\"*************************************** Pair Plot with Meal Type Legend ***************************************\")\n",
    "sns.pairplot(df, hue='Meal_Availability', diag_kind=\"kde\", kind=\"scatter\", palette=\"Set1\", height=3.5)\n",
    "plt.show()"
   ]
  },
  {
   "cell_type": "markdown",
   "id": "a08eb3d3",
   "metadata": {},
   "source": [
    "# Encoding the categorical object datatype columns"
   ]
  },
  {
   "cell_type": "code",
   "execution_count": null,
   "id": "d3d528ae",
   "metadata": {},
   "outputs": [],
   "source": [
    "# Ordinal Encoder\n",
    "\n",
    "oe = OrdinalEncoder()\n",
    "def ordinal_encode(df, column):\n",
    "    df[column] = oe.fit_transform(df[column])\n",
    "    return df\n",
    "\n",
    "column=[\"Meal_Availability\", \"Airline_Names\", \"Source_Place\", \"Destination_Place\"]\n",
    "df=ordinal_encode(df, column)\n",
    "df"
   ]
  },
  {
   "cell_type": "code",
   "execution_count": null,
   "id": "5ea0f5b0",
   "metadata": {},
   "outputs": [],
   "source": [
    "print(\"Shape of our data frame post encoding shows {} Rows and {} columns\\n\".format(df.shape[0], df.shape[1]))\n",
    "df"
   ]
  },
  {
   "cell_type": "code",
   "execution_count": null,
   "id": "430875ec",
   "metadata": {},
   "outputs": [],
   "source": [
    "plt.style.use('seaborn-bright')\n",
    "\n",
    "df.hist(figsize=(20,20))\n",
    "plt.show()"
   ]
  },
  {
   "cell_type": "markdown",
   "id": "4636e0f3",
   "metadata": {},
   "source": [
    "# Correlation using a Heatmap\n",
    "\n",
    "Positive correlation - A correlation of +1 indicates a perfect positive correlation, meaning that both variables move in the same direction together.\n",
    "\n",
    "Negative correlation - A correlation of –1 indicates a perfect negative correlation, meaning that as one variable goes up, the other goes down."
   ]
  },
  {
   "cell_type": "code",
   "execution_count": null,
   "id": "84a8fe83",
   "metadata": {},
   "outputs": [],
   "source": [
    "upper_triangle = np.triu(df.corr())\n",
    "plt.figure(figsize=(15,10))\n",
    "sns.heatmap(df.corr(), vmin=-1, vmax=1, annot=True, square=True, fmt='0.3f', \n",
    "            annot_kws={'size':10}, cmap=\"magma\", mask=upper_triangle)\n",
    "plt.xticks(fontsize=14)\n",
    "plt.yticks(fontsize=14)\n",
    "plt.show()"
   ]
  },
  {
   "cell_type": "markdown",
   "id": "a7382dac",
   "metadata": {},
   "source": [
    "# Correlation Bar Plot comparing target column with the feature columns"
   ]
  },
  {
   "cell_type": "code",
   "execution_count": null,
   "id": "51b708c1",
   "metadata": {},
   "outputs": [],
   "source": [
    "df_corr = df.corr()\n",
    "plt.figure(figsize=(14,7))\n",
    "df_corr['Flight_Prices'].sort_values(ascending=False).drop('Flight_Prices').plot.bar()\n",
    "plt.title(\"Correlation of Feature columns vs Label column\\n\", fontsize=20)\n",
    "plt.xlabel(\"\\nFeatures List\", fontsize=14)\n",
    "plt.ylabel(\"Correlation Value\", fontsize=14)\n",
    "plt.show()"
   ]
  },
  {
   "cell_type": "raw",
   "id": "d34ba909",
   "metadata": {},
   "source": [
    "# Outliers"
   ]
  },
  {
   "cell_type": "code",
   "execution_count": null,
   "id": "3290eebb",
   "metadata": {},
   "outputs": [],
   "source": [
    "plt.figure(figsize=(14,7))\n",
    "outl_df = df.columns.values\n",
    "for i in range(0, len(outl_df)):\n",
    "    plt.subplot(3, 5, i+1)\n",
    "    ax = sns.boxenplot(df[outl_df[i]], color='purple')\n",
    "    plt.tight_layout()"
   ]
  },
  {
   "cell_type": "markdown",
   "id": "ee636e47",
   "metadata": {},
   "source": [
    "# Skewness"
   ]
  },
  {
   "cell_type": "code",
   "execution_count": null,
   "id": "58442d6f",
   "metadata": {},
   "outputs": [],
   "source": [
    "df.skew()"
   ]
  },
  {
   "cell_type": "code",
   "execution_count": null,
   "id": "6145cb58",
   "metadata": {},
   "outputs": [],
   "source": [
    "fig, ax = plt.subplots(ncols=5, nrows=3, figsize=(15,9))\n",
    "index = 0\n",
    "ax = ax.flatten()\n",
    "for col, value in df.items():\n",
    "    sns.distplot(value, ax=ax[index], hist=False, color=\"g\", kde_kws={\"shade\": True})\n",
    "    index += 1\n",
    "plt.tight_layout(pad=0.8, w_pad=0.8, h_pad=2.0)\n",
    "plt.show()"
   ]
  },
  {
   "cell_type": "markdown",
   "id": "956411ad",
   "metadata": {},
   "source": [
    "# Splitting the dataset into 2 variables namely 'X' and 'Y' for feature and label"
   ]
  },
  {
   "cell_type": "code",
   "execution_count": null,
   "id": "7a335757",
   "metadata": {},
   "outputs": [],
   "source": [
    "X = df.drop('Flight_Prices', axis=1)\n",
    "Y = df['Flight_Prices']"
   ]
  },
  {
   "cell_type": "markdown",
   "id": "71df77b2",
   "metadata": {},
   "source": [
    "# Finding the best random state for building Regression Models"
   ]
  },
  {
   "cell_type": "code",
   "execution_count": null,
   "id": "f674d652",
   "metadata": {},
   "outputs": [],
   "source": [
    "maxAccu=0\n",
    "maxRS=0\n",
    "\n",
    "for i in range(1, 1000):\n",
    "    X_train, X_test, Y_train, Y_test = train_test_split(X, Y, test_size=0.25, random_state=i)\n",
    "    lr=LinearRegression()\n",
    "    lr.fit(X_train, Y_train)\n",
    "    pred = lr.predict(X_test)\n",
    "    r2 = r2_score(Y_test, pred)\n",
    "    \n",
    "    if r2>maxAccu:\n",
    "        maxAccu=r2\n",
    "        maxRS=i\n",
    "\n",
    "print(\"Best R2 score is\", maxAccu*100,\"on Random State\", maxRS)"
   ]
  },
  {
   "cell_type": "markdown",
   "id": "c80b6d46",
   "metadata": {},
   "source": [
    "# Feature importance bar graph"
   ]
  },
  {
   "cell_type": "code",
   "execution_count": null,
   "id": "caa0dda7",
   "metadata": {},
   "outputs": [],
   "source": [
    "rf=RandomForestRegressor()\n",
    "rf.fit(X_train, Y_train)\n",
    "importances = pd.DataFrame({'Features':X.columns, 'Importance':np.round(rf.feature_importances_,3)})\n",
    "importances = importances.sort_values('Importance', ascending=False).set_index('Features')\n",
    "plt.rcParams[\"figure.figsize\"] = (15,8)\n",
    "importances.plot.bar(color='teal')\n",
    "importances"
   ]
  },
  {
   "cell_type": "markdown",
   "id": "9ab75c12",
   "metadata": {},
   "source": [
    "# Machine Learning Model for Regression with Evaluation Metrics"
   ]
  },
  {
   "cell_type": "code",
   "execution_count": null,
   "id": "b2759d74",
   "metadata": {},
   "outputs": [],
   "source": [
    "# Regression Model Function\n",
    "\n",
    "def reg(model, X, Y):\n",
    "    X_train, X_test, Y_train, Y_test = train_test_split(X, Y, test_size=0.25, random_state=638)\n",
    "    \n",
    "    # Training the model\n",
    "    model.fit(X_train, Y_train)\n",
    "    \n",
    "    # Predicting Y_test\n",
    "    pred = model.predict(X_test)\n",
    "    \n",
    "    # RMSE - a lower RMSE score is better than a higher one\n",
    "    rmse = mean_squared_error(Y_test, pred, squared=False)\n",
    "    print(\"RMSE Score is:\", rmse)\n",
    "    \n",
    "    # R2 score\n",
    "    r2 = r2_score(Y_test, pred, multioutput='variance_weighted')*100\n",
    "    print(\"R2 Score is:\", r2)\n",
    "    \n",
    "    # Cross Validation Score\n",
    "    cv_score = (cross_val_score(model, X, Y, cv=5).mean())*100\n",
    "    print(\"Cross Validation Score:\", cv_score)\n",
    "    \n",
    "    # Result of r2 score minus cv score\n",
    "    result = r2 - cv_score\n",
    "    print(\"R2 Score - Cross Validation Score is\", result)"
   ]
  },
  {
   "cell_type": "code",
   "execution_count": null,
   "id": "fb8fd881",
   "metadata": {},
   "outputs": [],
   "source": [
    "# Linear Regression Model\n",
    "\n",
    "model=LinearRegression()\n",
    "reg(model, X, Y)"
   ]
  },
  {
   "cell_type": "code",
   "execution_count": null,
   "id": "3c06cf39",
   "metadata": {},
   "outputs": [],
   "source": [
    "# Ridge Regularization\n",
    "\n",
    "model=Ridge(alpha=1e-2, normalize=True)\n",
    "reg(model, X, Y)"
   ]
  },
  {
   "cell_type": "code",
   "execution_count": null,
   "id": "04ed43a1",
   "metadata": {},
   "outputs": [],
   "source": [
    "# Lasso Regularization\n",
    "\n",
    "model=Lasso(alpha=1e-2, normalize=True, max_iter=1e5)\n",
    "reg(model, X, Y)"
   ]
  },
  {
   "cell_type": "code",
   "execution_count": null,
   "id": "d594c9bb",
   "metadata": {},
   "outputs": [],
   "source": [
    "# Support Vector Regression\n",
    "\n",
    "model=SVR(C=1.0, epsilon=0.2, kernel='poly', gamma='auto')\n",
    "reg(model, X, Y)"
   ]
  },
  {
   "cell_type": "code",
   "execution_count": null,
   "id": "21ca039b",
   "metadata": {},
   "outputs": [],
   "source": [
    "# Decision Tree Regressor\n",
    "\n",
    "model=DecisionTreeRegressor(criterion=\"poisson\", random_state=111)\n",
    "reg(model, X, Y)"
   ]
  },
  {
   "cell_type": "code",
   "execution_count": null,
   "id": "74995e78",
   "metadata": {},
   "outputs": [],
   "source": [
    "# Random Forest Regressor\n",
    "\n",
    "model=RandomForestRegressor(max_depth=2, max_features=\"sqrt\")\n",
    "reg(model, X, Y)"
   ]
  },
  {
   "cell_type": "code",
   "execution_count": null,
   "id": "aaed42f3",
   "metadata": {},
   "outputs": [],
   "source": [
    "# K Neighbors Regressor\n",
    "\n",
    "KNeighborsRegressor(n_neighbors=2, algorithm='kd_tree')\n",
    "reg(model, X, Y)"
   ]
  },
  {
   "cell_type": "code",
   "execution_count": null,
   "id": "59582eaa",
   "metadata": {},
   "outputs": [],
   "source": [
    "# Gradient Boosting Regressor\n",
    "\n",
    "model=GradientBoostingRegressor(loss='quantile', n_estimators=200, max_depth=5)\n",
    "reg(model, X, Y)"
   ]
  },
  {
   "cell_type": "code",
   "execution_count": null,
   "id": "a7dd6128",
   "metadata": {},
   "outputs": [],
   "source": [
    "# Ada Boost Regressor\n",
    "\n",
    "model=AdaBoostRegressor(n_estimators=300, learning_rate=1.05, random_state=42)\n",
    "reg(model, X, Y)"
   ]
  },
  {
   "cell_type": "code",
   "execution_count": null,
   "id": "0d9a8f35",
   "metadata": {},
   "outputs": [],
   "source": [
    "# Extra Trees Regressor\n",
    "\n",
    "model=ExtraTreesRegressor(n_estimators=200, max_features='sqrt', n_jobs=6)\n",
    "reg(model, X, Y)"
   ]
  },
  {
   "cell_type": "markdown",
   "id": "d8d10448",
   "metadata": {},
   "source": [
    "# Hyper parameter tuning"
   ]
  },
  {
   "cell_type": "code",
   "execution_count": null,
   "id": "ecb5e15e",
   "metadata": {},
   "outputs": [],
   "source": [
    "# Choosing Extra Trees Regressor\n",
    "\n",
    "fmod_param = {'n_estimators' : [100, 200, 300],\n",
    "              'criterion' : ['squared_error', 'mse', 'absolute_error', 'mae'],\n",
    "              'n_jobs' : [-2, -1, 1],\n",
    "              'random_state' : [42, 251, 340]\n",
    "             }\n",
    "\n",
    "GSCV = GridSearchCV(ExtraTreesRegressor(), fmod_param, cv=5)\n",
    "GSCV.fit(X_train,Y_train)"
   ]
  },
  {
   "cell_type": "code",
   "execution_count": null,
   "id": "8d941a2d",
   "metadata": {},
   "outputs": [],
   "source": [
    "GSCV.best_params_"
   ]
  },
  {
   "cell_type": "code",
   "execution_count": null,
   "id": "c54a6aaa",
   "metadata": {},
   "outputs": [],
   "source": [
    "Final_Model = ExtraTreesRegressor(criterion='mae', n_estimators=300, n_jobs=-2, random_state=251)\n",
    "Model_Training = Final_Model.fit(X_train, Y_train)\n",
    "fmod_pred = Final_Model.predict(X_test)\n",
    "fmod_r2 = r2_score(Y_test, fmod_pred, multioutput='variance_weighted')*100\n",
    "print(\"R2 score for the Best Model is:\", fmod_r2)"
   ]
  },
  {
   "cell_type": "markdown",
   "id": "b1855593",
   "metadata": {},
   "source": [
    "# Prediction of Flight Prices"
   ]
  },
  {
   "cell_type": "code",
   "execution_count": null,
   "id": "e7609963",
   "metadata": {},
   "outputs": [],
   "source": [
    "Predicted_Price = Final_Model.predict(X)\n",
    "# Checking the predicted price details in dataframe format\n",
    "predicted_output = pd.DataFrame()\n",
    "predicted_output['Flight Price Predicted'] = Predicted_Price\n",
    "predicted_output['Flight Price Actual'] = df[\"Flight_Prices\"]\n",
    "predicted_output"
   ]
  },
  {
   "cell_type": "markdown",
   "id": "9b229b68",
   "metadata": {},
   "source": [
    "# Saving the best model"
   ]
  },
  {
   "cell_type": "code",
   "execution_count": null,
   "id": "7d09544a",
   "metadata": {},
   "outputs": [],
   "source": [
    "filename = \"FlightPricePrediction.pkl\"\n",
    "joblib.dump(Final_Model, filename)"
   ]
  }
 ],
 "metadata": {
  "kernelspec": {
   "display_name": "Python 3 (ipykernel)",
   "language": "python",
   "name": "python3"
  },
  "language_info": {
   "codemirror_mode": {
    "name": "ipython",
    "version": 3
   },
   "file_extension": ".py",
   "mimetype": "text/x-python",
   "name": "python",
   "nbconvert_exporter": "python",
   "pygments_lexer": "ipython3",
   "version": "3.9.7"
  }
 },
 "nbformat": 4,
 "nbformat_minor": 5
}
